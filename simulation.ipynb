{
 "cells": [
  {
   "cell_type": "code",
   "execution_count": 1,
   "id": "41d0781a",
   "metadata": {},
   "outputs": [],
   "source": [
    "%matplotlib inline\n",
    "import numpy as np\n",
    "import pandas as pd\n",
    "import matplotlib.pyplot as plt\n",
    "\n",
    "\n",
    "\n",
    "\n",
    "\n"
   ]
  },
  {
   "cell_type": "markdown",
   "id": "93adbd69",
   "metadata": {},
   "source": [
    "### How likely is it that you roll doubles when rolling two dice?\n",
    "### "
   ]
  },
  {
   "cell_type": "markdown",
   "id": "8456b422",
   "metadata": {},
   "source": [
    "16 percent"
   ]
  },
  {
   "cell_type": "code",
   "execution_count": 2,
   "id": "2846bc10",
   "metadata": {},
   "outputs": [
    {
     "data": {
      "text/plain": [
       "array([[1, 4],\n",
       "       [4, 4],\n",
       "       [4, 3],\n",
       "       ...,\n",
       "       [1, 6],\n",
       "       [6, 2],\n",
       "       [4, 3]])"
      ]
     },
     "execution_count": 2,
     "metadata": {},
     "output_type": "execute_result"
    }
   ],
   "source": [
    "n_trials = nrows = 10_000\n",
    "n_dice = ncols = 2\n",
    "\n",
    "rolls = np.random.choice([1, 2, 3, 4, 5, 6], n_trials * n_dice).reshape(nrows, ncols)\n",
    "rolls"
   ]
  },
  {
   "cell_type": "markdown",
   "id": "95e741b0",
   "metadata": {},
   "source": [
    "### If you flip 8 coins, what is the probability of getting exactly 3 heads? What is the probability of getting more than 3 heads?\n",
    "### "
   ]
  },
  {
   "cell_type": "code",
   "execution_count": 3,
   "id": "e7199e9b",
   "metadata": {},
   "outputs": [],
   "source": [
    "\n",
    "num_trials= 10000\n",
    "num_coins = 8\n",
    "\n",
    "\n",
    "heads =1\n",
    "tails =0\n",
    "\n",
    "outcomes=[heads, tails]"
   ]
  },
  {
   "cell_type": "code",
   "execution_count": 4,
   "id": "dab6e479",
   "metadata": {},
   "outputs": [
    {
     "data": {
      "text/plain": [
       "array([[0, 1, 0, ..., 1, 0, 1],\n",
       "       [0, 0, 1, ..., 1, 1, 0],\n",
       "       [1, 0, 1, ..., 1, 1, 1],\n",
       "       ...,\n",
       "       [1, 1, 0, ..., 1, 1, 0],\n",
       "       [1, 1, 1, ..., 0, 0, 0],\n",
       "       [1, 1, 1, ..., 0, 0, 1]])"
      ]
     },
     "execution_count": 4,
     "metadata": {},
     "output_type": "execute_result"
    }
   ],
   "source": [
    "flips= np.random.choice(outcomes, size =(num_trials, num_coins))\n",
    "flips"
   ]
  },
  {
   "cell_type": "code",
   "execution_count": 5,
   "id": "0ff205c7",
   "metadata": {},
   "outputs": [
    {
     "data": {
      "text/plain": [
       "array([3, 5, 7, ..., 5, 4, 4])"
      ]
     },
     "execution_count": 5,
     "metadata": {},
     "output_type": "execute_result"
    }
   ],
   "source": [
    "num_heads = flips.sum(axis=1)\n",
    "num_heads"
   ]
  },
  {
   "cell_type": "code",
   "execution_count": 6,
   "id": "6feb6d61",
   "metadata": {},
   "outputs": [
    {
     "data": {
      "text/plain": [
       "0.2056"
      ]
     },
     "execution_count": 6,
     "metadata": {},
     "output_type": "execute_result"
    }
   ],
   "source": [
    "probability=(num_heads == 3).mean()\n",
    "probability"
   ]
  },
  {
   "cell_type": "markdown",
   "id": "36d60cbb",
   "metadata": {},
   "source": [
    "### MORE THAN 3\n"
   ]
  },
  {
   "cell_type": "code",
   "execution_count": 7,
   "id": "1c86617f",
   "metadata": {},
   "outputs": [
    {
     "data": {
      "text/plain": [
       "0.2056"
      ]
     },
     "execution_count": 7,
     "metadata": {},
     "output_type": "execute_result"
    }
   ],
   "source": [
    "probabiltyb=(num_heads > 3).mean()\n",
    "probability"
   ]
  },
  {
   "cell_type": "markdown",
   "id": "849ea95a",
   "metadata": {},
   "source": [
    "### There are approximitely 3 web development cohorts for every 1 data science cohort at Codeup. Assuming that Codeup randomly selects an alumni to put on a billboard, what are the odds that the two billboards I drive past both have data science students on them?\n",
    "### "
   ]
  },
  {
   "cell_type": "code",
   "execution_count": 8,
   "id": "c6de174c",
   "metadata": {},
   "outputs": [],
   "source": [
    "webdevelopment = 0.75 \n",
    "datascience = 0.25 \n",
    "num_trials = 10000 \n",
    "num_billboards = 2 "
   ]
  },
  {
   "cell_type": "code",
   "execution_count": 9,
   "id": "362219f7",
   "metadata": {},
   "outputs": [
    {
     "data": {
      "text/plain": [
       "array([[0.51956322, 0.51895829],\n",
       "       [0.86002192, 0.53445176],\n",
       "       [0.57634717, 0.24058171],\n",
       "       ...,\n",
       "       [0.91832534, 0.07267858],\n",
       "       [0.63528202, 0.48535847],\n",
       "       [0.92132728, 0.68932233]])"
      ]
     },
     "execution_count": 9,
     "metadata": {},
     "output_type": "execute_result"
    }
   ],
   "source": [
    "boards = np.random.random((num_trials, num_billboards))\n",
    "boards"
   ]
  },
  {
   "cell_type": "code",
   "execution_count": 10,
   "id": "d6e5f8a5",
   "metadata": {
    "scrolled": true
   },
   "outputs": [
    {
     "data": {
      "text/plain": [
       "array([[False, False],\n",
       "       [False, False],\n",
       "       [False,  True],\n",
       "       ...,\n",
       "       [False,  True],\n",
       "       [False, False],\n",
       "       [False, False]])"
      ]
     },
     "execution_count": 10,
     "metadata": {},
     "output_type": "execute_result"
    }
   ],
   "source": [
    "DS_billboard = boards < datascience\n",
    "DS_billboard"
   ]
  },
  {
   "cell_type": "code",
   "execution_count": 11,
   "id": "58d86caf",
   "metadata": {},
   "outputs": [
    {
     "data": {
      "text/plain": [
       "0.0648"
      ]
     },
     "execution_count": 11,
     "metadata": {},
     "output_type": "execute_result"
    }
   ],
   "source": [
    "(DS_billboard.sum(axis=1)==2).mean() "
   ]
  },
  {
   "cell_type": "code",
   "execution_count": 12,
   "id": "e850bbc8",
   "metadata": {},
   "outputs": [],
   "source": [
    "datascience = 1/4\n",
    "webdevelopment = 3/4\n",
    "outcome = [datascience, webdevelopment]"
   ]
  },
  {
   "cell_type": "code",
   "execution_count": 13,
   "id": "a75838cf",
   "metadata": {},
   "outputs": [
    {
     "data": {
      "text/html": [
       "<div>\n",
       "<style scoped>\n",
       "    .dataframe tbody tr th:only-of-type {\n",
       "        vertical-align: middle;\n",
       "    }\n",
       "\n",
       "    .dataframe tbody tr th {\n",
       "        vertical-align: top;\n",
       "    }\n",
       "\n",
       "    .dataframe thead th {\n",
       "        text-align: right;\n",
       "    }\n",
       "</style>\n",
       "<table border=\"1\" class=\"dataframe\">\n",
       "  <thead>\n",
       "    <tr style=\"text-align: right;\">\n",
       "      <th></th>\n",
       "      <th>0</th>\n",
       "      <th>1</th>\n",
       "    </tr>\n",
       "  </thead>\n",
       "  <tbody>\n",
       "    <tr>\n",
       "      <th>0</th>\n",
       "      <td>0.25</td>\n",
       "      <td>0.25</td>\n",
       "    </tr>\n",
       "    <tr>\n",
       "      <th>1</th>\n",
       "      <td>0.25</td>\n",
       "      <td>0.25</td>\n",
       "    </tr>\n",
       "    <tr>\n",
       "      <th>2</th>\n",
       "      <td>0.25</td>\n",
       "      <td>0.25</td>\n",
       "    </tr>\n",
       "    <tr>\n",
       "      <th>3</th>\n",
       "      <td>0.25</td>\n",
       "      <td>0.25</td>\n",
       "    </tr>\n",
       "    <tr>\n",
       "      <th>4</th>\n",
       "      <td>0.25</td>\n",
       "      <td>0.25</td>\n",
       "    </tr>\n",
       "  </tbody>\n",
       "</table>\n",
       "</div>"
      ],
      "text/plain": [
       "      0     1\n",
       "0  0.25  0.25\n",
       "1  0.25  0.25\n",
       "2  0.25  0.25\n",
       "3  0.25  0.25\n",
       "4  0.25  0.25"
      ]
     },
     "execution_count": 13,
     "metadata": {},
     "output_type": "execute_result"
    }
   ],
   "source": [
    "billboard = np.random.choice(outcome, size = (num_trials, num_billboards), p = [3/4, 1/4])\n",
    "\n",
    "\n",
    "billboard = pd.DataFrame(billboard)\n",
    "billboard.head()"
   ]
  },
  {
   "cell_type": "code",
   "execution_count": 14,
   "id": "e947b341",
   "metadata": {},
   "outputs": [
    {
     "data": {
      "text/plain": [
       "0.5649"
      ]
     },
     "execution_count": 14,
     "metadata": {},
     "output_type": "execute_result"
    }
   ],
   "source": [
    "billboard[\"num_ds\"] = (billboard == 0.25).sum(axis=1)\n",
    "(billboard.num_ds == 2).mean()\n"
   ]
  },
  {
   "cell_type": "markdown",
   "id": "553c4645",
   "metadata": {},
   "source": [
    "### Codeup students buy, on average, 3 poptart packages with a standard deviation of 1.5 a day from the snack vending machine. If on monday the machine is restocked with 17 poptart packages, how likely is it that I will be able to buy some poptarts on Friday afternoon? (Remember, if you have mean and standard deviation, use the np.random.normal) You'll need to make a judgement call on how to handle some of your values\n",
    "### "
   ]
  },
  {
   "cell_type": "code",
   "execution_count": 15,
   "id": "30ecd46b",
   "metadata": {},
   "outputs": [
    {
     "data": {
      "text/plain": [
       "array([[3., 4., 1., 1., 3.],\n",
       "       [1., 4., 2., 2., 3.],\n",
       "       [4., 2., 4., 4., 3.],\n",
       "       ...,\n",
       "       [5., 4., 4., 2., 2.],\n",
       "       [4., 2., 3., 4., 2.],\n",
       "       [2., 2., 4., 0., 3.]])"
      ]
     },
     "execution_count": 15,
     "metadata": {},
     "output_type": "execute_result"
    }
   ],
   "source": [
    "num_trials = 10000 \n",
    "num_packages = 17 \n",
    "num_days = 5 \n",
    "\n",
    "packages = np.round(np.random.normal(3,1.5, (num_trials, num_days)))\n",
    "packages"
   ]
  },
  {
   "cell_type": "code",
   "execution_count": 16,
   "id": "0e11fba9",
   "metadata": {},
   "outputs": [
    {
     "data": {
      "text/plain": [
       "array([[3., 4., 1., 1., 3.],\n",
       "       [1., 4., 2., 2., 3.],\n",
       "       [4., 2., 4., 4., 3.],\n",
       "       ...,\n",
       "       [5., 4., 4., 2., 2.],\n",
       "       [4., 2., 3., 4., 2.],\n",
       "       [2., 2., 4., 0., 3.]])"
      ]
     },
     "execution_count": 16,
     "metadata": {},
     "output_type": "execute_result"
    }
   ],
   "source": [
    "package_purchased = np.where(packages < 0,0,packages)\n",
    "package_purchased"
   ]
  },
  {
   "cell_type": "code",
   "execution_count": 17,
   "id": "24a2214e",
   "metadata": {},
   "outputs": [
    {
     "data": {
      "text/plain": [
       "array([12., 12., 17., ..., 17., 15., 11.])"
      ]
     },
     "execution_count": 17,
     "metadata": {},
     "output_type": "execute_result"
    }
   ],
   "source": [
    "all_packages = package_purchased.sum(axis=1)\n",
    "all_packages"
   ]
  },
  {
   "cell_type": "code",
   "execution_count": 18,
   "id": "358b8f7a",
   "metadata": {},
   "outputs": [
    {
     "data": {
      "text/plain": [
       "array([ True,  True, False, ..., False,  True,  True])"
      ]
     },
     "execution_count": 18,
     "metadata": {},
     "output_type": "execute_result"
    }
   ],
   "source": [
    "package_left_friday = all_packages < 17\n",
    "package_left_friday"
   ]
  },
  {
   "cell_type": "code",
   "execution_count": 19,
   "id": "be87d0dc",
   "metadata": {},
   "outputs": [
    {
     "data": {
      "text/plain": [
       "0.6643"
      ]
     },
     "execution_count": 19,
     "metadata": {},
     "output_type": "execute_result"
    }
   ],
   "source": [
    "prob_left_friday = package_left_friday.mean()\n",
    "prob_left_friday\n"
   ]
  },
  {
   "cell_type": "markdown",
   "id": "a0e9b25a",
   "metadata": {},
   "source": [
    "### Compare Heights\n",
    "### "
   ]
  },
  {
   "cell_type": "markdown",
   "id": "a30821db",
   "metadata": {},
   "source": [
    "### Men have an average height of 178 cm and standard deviation of 8cm.\n",
    "### "
   ]
  },
  {
   "cell_type": "code",
   "execution_count": 20,
   "id": "f25f4a3b",
   "metadata": {},
   "outputs": [],
   "source": [
    "men_avg= 178\n",
    "men_std=8"
   ]
  },
  {
   "cell_type": "markdown",
   "id": "3bbcb231",
   "metadata": {},
   "source": [
    "### Women have a mean of 170, sd = 6cm.\n",
    "### "
   ]
  },
  {
   "cell_type": "code",
   "execution_count": 21,
   "id": "27327890",
   "metadata": {},
   "outputs": [],
   "source": [
    "women_avg=170\n",
    "women_std=6"
   ]
  },
  {
   "cell_type": "markdown",
   "id": "6edd09a3",
   "metadata": {},
   "source": [
    "### Since you have means and standard deviations, you can use np.random.normal to generate observations.\n",
    "### "
   ]
  },
  {
   "cell_type": "code",
   "execution_count": 22,
   "id": "06af7c74",
   "metadata": {},
   "outputs": [],
   "source": [
    "num_trial = 10000"
   ]
  },
  {
   "cell_type": "markdown",
   "id": "be02884a",
   "metadata": {},
   "source": [
    "### If a man and woman are chosen at random, what is the likelihood the woman is taller than the man?\n",
    "### "
   ]
  },
  {
   "cell_type": "code",
   "execution_count": 23,
   "id": "4685f000",
   "metadata": {},
   "outputs": [],
   "source": [
    "size_men = np.random.normal(men_avg, men_std, n_trials)"
   ]
  },
  {
   "cell_type": "code",
   "execution_count": 24,
   "id": "3f08f144",
   "metadata": {},
   "outputs": [],
   "source": [
    "size_women = np.random.normal(women_avg, women_std, n_trials)"
   ]
  },
  {
   "cell_type": "code",
   "execution_count": 25,
   "id": "4b50fc74",
   "metadata": {},
   "outputs": [
    {
     "data": {
      "text/plain": [
       "0.2098"
      ]
     },
     "execution_count": 25,
     "metadata": {},
     "output_type": "execute_result"
    }
   ],
   "source": [
    "calculated_prob = (size_women > size_men).mean()\n",
    "\n",
    "#take a look\n",
    "calculated_prob"
   ]
  },
  {
   "cell_type": "markdown",
   "id": "ce509824",
   "metadata": {},
   "source": [
    "### When installing anaconda on a student's computer, there's a 1 in 250 chance that the download is corrupted and the installation fails. What are the odds that after having 50 students download anaconda, no one has an installation issue? 100 students?\n",
    "### "
   ]
  },
  {
   "cell_type": "code",
   "execution_count": 26,
   "id": "6c9fd11a",
   "metadata": {},
   "outputs": [],
   "source": [
    "num_trial = 10000\n",
    "prob_fail = 1/250\n",
    "num_install = 50\n",
    "fail = 1\n",
    "succeed = 0\n",
    "outcome = [fail, succeed]"
   ]
  },
  {
   "cell_type": "code",
   "execution_count": 27,
   "id": "99835317",
   "metadata": {},
   "outputs": [
    {
     "data": {
      "text/plain": [
       "0.8156"
      ]
     },
     "execution_count": 27,
     "metadata": {},
     "output_type": "execute_result"
    }
   ],
   "source": [
    "installs = np.random.choice(outcome, size = (num_trial, num_install), p = [249/250, 1/250])\n",
    "((installs < prob_fail).sum(axis=1)== 0).mean()"
   ]
  },
  {
   "cell_type": "markdown",
   "id": "0c98e67b",
   "metadata": {},
   "source": [
    "##### 100 students"
   ]
  },
  {
   "cell_type": "code",
   "execution_count": 28,
   "id": "2f5c6ad3",
   "metadata": {},
   "outputs": [],
   "source": [
    "num_trial = 10000\n",
    "prob_fail = 1/250\n",
    "num_install = 100\n",
    "fail = 1\n",
    "succeed = 0\n",
    "outcome = [fail, succeed]"
   ]
  },
  {
   "cell_type": "code",
   "execution_count": 29,
   "id": "9ab84af2",
   "metadata": {},
   "outputs": [
    {
     "data": {
      "text/plain": [
       "0.6745"
      ]
     },
     "execution_count": 29,
     "metadata": {},
     "output_type": "execute_result"
    }
   ],
   "source": [
    "installs = np.random.choice(outcome, size = (num_trial, num_install), p = [249/250, 1/250])\n",
    "((installs < prob_fail).sum(axis=1)== 0).mean()"
   ]
  },
  {
   "cell_type": "markdown",
   "id": "1d81e4f7",
   "metadata": {},
   "source": [
    "### What is the probability that we observe an installation issue within the first 150 students that download anaconda?\n",
    "### "
   ]
  },
  {
   "cell_type": "code",
   "execution_count": 30,
   "id": "7f90e9f9",
   "metadata": {},
   "outputs": [],
   "source": [
    "num_trial = 10000\n",
    "prob_fail = 1/250\n",
    "num_install = 150\n",
    "fail = 1\n",
    "succeed = 0\n",
    "outcome = [fail, succeed]"
   ]
  },
  {
   "cell_type": "code",
   "execution_count": 31,
   "id": "1d4b05f7",
   "metadata": {},
   "outputs": [],
   "source": [
    "installs = np.random.random((num_install,num_trial))"
   ]
  },
  {
   "cell_type": "code",
   "execution_count": 32,
   "id": "64ecf8f3",
   "metadata": {},
   "outputs": [
    {
     "data": {
      "text/plain": [
       "array([[False, False, False, ..., False, False, False],\n",
       "       [False, False, False, ..., False, False, False],\n",
       "       [False, False, False, ..., False, False, False],\n",
       "       ...,\n",
       "       [False, False, False, ..., False, False, False],\n",
       "       [False, False, False, ..., False, False, False],\n",
       "       [False, False, False, ..., False, False, False]])"
      ]
     },
     "execution_count": 32,
     "metadata": {},
     "output_type": "execute_result"
    }
   ],
   "source": [
    "installs < prob_fail"
   ]
  },
  {
   "cell_type": "code",
   "execution_count": 33,
   "id": "80583e25",
   "metadata": {},
   "outputs": [
    {
     "data": {
      "text/plain": [
       "1.0"
      ]
     },
     "execution_count": 33,
     "metadata": {},
     "output_type": "execute_result"
    }
   ],
   "source": [
    "((installs < prob_fail).sum(axis=1)> 0).mean()"
   ]
  },
  {
   "cell_type": "markdown",
   "id": "7cfe548a",
   "metadata": {},
   "source": [
    "### How likely is it that 450 students all download anaconda without an issue?\n",
    "### "
   ]
  },
  {
   "cell_type": "code",
   "execution_count": 34,
   "id": "8762c99f",
   "metadata": {},
   "outputs": [],
   "source": [
    "num_trial = 10000\n",
    "prob_fail = 1/250\n",
    "num_install = 450\n",
    "fail = 1\n",
    "succeed = 0\n",
    "outcome = [fail, succeed]"
   ]
  },
  {
   "cell_type": "code",
   "execution_count": 35,
   "id": "ee42c1d8",
   "metadata": {},
   "outputs": [],
   "source": [
    "installs = np.random.random((num_install,num_trial))"
   ]
  },
  {
   "cell_type": "code",
   "execution_count": 36,
   "id": "dd709c08",
   "metadata": {},
   "outputs": [
    {
     "data": {
      "text/plain": [
       "array([[False, False, False, ..., False, False, False],\n",
       "       [False, False, False, ..., False, False, False],\n",
       "       [False, False, False, ..., False, False, False],\n",
       "       ...,\n",
       "       [False, False, False, ..., False, False, False],\n",
       "       [False, False, False, ..., False, False, False],\n",
       "       [ True, False, False, ..., False, False, False]])"
      ]
     },
     "execution_count": 36,
     "metadata": {},
     "output_type": "execute_result"
    }
   ],
   "source": [
    "installs < prob_fail"
   ]
  },
  {
   "cell_type": "code",
   "execution_count": 37,
   "id": "e5402f8e",
   "metadata": {},
   "outputs": [
    {
     "data": {
      "text/plain": [
       "0.0"
      ]
     },
     "execution_count": 37,
     "metadata": {},
     "output_type": "execute_result"
    }
   ],
   "source": [
    "((installs < prob_fail).sum(axis=1)== 0).mean()\n"
   ]
  },
  {
   "cell_type": "markdown",
   "id": "d8debcfd",
   "metadata": {},
   "source": [
    "### There's a 70% chance on any given day that there will be at least one food truck at Travis Park. However, you haven't seen a food truck there in 3 days. How unlikely is this?\n",
    "### "
   ]
  },
  {
   "cell_type": "code",
   "execution_count": 38,
   "id": "e0535014",
   "metadata": {},
   "outputs": [],
   "source": [
    "num_trial= 10000\n",
    "num_day= 3\n",
    "truck=1\n",
    "no_truck=0\n",
    "prob = 0.7"
   ]
  },
  {
   "cell_type": "code",
   "execution_count": 39,
   "id": "c5faa737",
   "metadata": {},
   "outputs": [],
   "source": [
    "data= np.random.random((num_trial,num_day))"
   ]
  },
  {
   "cell_type": "code",
   "execution_count": 40,
   "id": "a9975d0c",
   "metadata": {},
   "outputs": [
    {
     "data": {
      "text/plain": [
       "0.0269"
      ]
     },
     "execution_count": 40,
     "metadata": {},
     "output_type": "execute_result"
    }
   ],
   "source": [
    "((data < prob).sum(axis=1)==0).mean()\n"
   ]
  },
  {
   "cell_type": "markdown",
   "id": "a6c89523",
   "metadata": {},
   "source": [
    "### How likely is it that a food truck will show up sometime this week?\n",
    "### "
   ]
  },
  {
   "cell_type": "code",
   "execution_count": 41,
   "id": "fa1cecf2",
   "metadata": {},
   "outputs": [],
   "source": [
    "num_trial= 10000\n",
    "days_left= 3 \n",
    "truck=1\n",
    "no_truck=0\n",
    "truck_prob = 0.7\n",
    "\n"
   ]
  },
  {
   "cell_type": "code",
   "execution_count": 42,
   "id": "abe2f09e",
   "metadata": {},
   "outputs": [],
   "source": [
    "truck_day = np.random.random((num_trial,days_left))\n"
   ]
  },
  {
   "cell_type": "code",
   "execution_count": 43,
   "id": "aab59d36",
   "metadata": {},
   "outputs": [
    {
     "data": {
      "text/plain": [
       "0.9712"
      ]
     },
     "execution_count": 43,
     "metadata": {},
     "output_type": "execute_result"
    }
   ],
   "source": [
    "prob = ((truck_day < truck_prob).sum(axis=1) >0).mean()\n",
    "prob\n"
   ]
  },
  {
   "cell_type": "markdown",
   "id": "98cb58e8",
   "metadata": {},
   "source": [
    "### If 23 people are in the same room, what are the odds that two of them share a birthday? What if it's 20 people? 40?"
   ]
  },
  {
   "cell_type": "code",
   "execution_count": 44,
   "id": "7d0d984a",
   "metadata": {},
   "outputs": [],
   "source": [
    "num_trial = 10000\n",
    "num_people = 23\n",
    "outcome = range(0,365)\n"
   ]
  },
  {
   "cell_type": "code",
   "execution_count": 45,
   "id": "941c9b4c",
   "metadata": {},
   "outputs": [
    {
     "data": {
      "text/plain": [
       "array([[340, 341, 335, ..., 100, 314, 157],\n",
       "       [175, 210, 283, ..., 294,   6, 355],\n",
       "       [294, 336, 184, ..., 106, 355, 162],\n",
       "       ...,\n",
       "       [298, 217, 320, ...,  78, 339, 233],\n",
       "       [ 10,  72, 161, ...,  70,  83, 195],\n",
       "       [ 11,  57, 161, ...,  84,  91, 299]])"
      ]
     },
     "execution_count": 45,
     "metadata": {},
     "output_type": "execute_result"
    }
   ],
   "source": [
    "birthd = np.random.choice(outcome, size=(num_trial, num_people))\n",
    "birthd"
   ]
  },
  {
   "cell_type": "code",
   "execution_count": 46,
   "id": "c29d06f7",
   "metadata": {},
   "outputs": [
    {
     "data": {
      "text/plain": [
       "0       23\n",
       "1       23\n",
       "2       22\n",
       "3       23\n",
       "4       22\n",
       "        ..\n",
       "9995    23\n",
       "9996    23\n",
       "9997    23\n",
       "9998    22\n",
       "9999    22\n",
       "Length: 10000, dtype: int64"
      ]
     },
     "execution_count": 46,
     "metadata": {},
     "output_type": "execute_result"
    }
   ],
   "source": [
    "pd.DataFrame(birthd).nunique(axis = 1)\n"
   ]
  },
  {
   "cell_type": "code",
   "execution_count": 47,
   "id": "3e531517",
   "metadata": {},
   "outputs": [
    {
     "data": {
      "text/plain": [
       "0.5154"
      ]
     },
     "execution_count": 47,
     "metadata": {},
     "output_type": "execute_result"
    }
   ],
   "source": [
    "(pd.DataFrame(birthd).nunique(axis = 1) < 23).mean()\n"
   ]
  },
  {
   "cell_type": "markdown",
   "id": "2b4bb0a6",
   "metadata": {},
   "source": [
    "### 20 people\n"
   ]
  },
  {
   "cell_type": "code",
   "execution_count": 48,
   "id": "3da97272",
   "metadata": {},
   "outputs": [],
   "source": [
    "num_trial = 10000\n",
    "num_people = 20\n",
    "outcome = range(0,365)"
   ]
  },
  {
   "cell_type": "code",
   "execution_count": 49,
   "id": "a7c26c3f",
   "metadata": {},
   "outputs": [
    {
     "data": {
      "text/plain": [
       "array([[108, 215, 124, ..., 218,  11,  47],\n",
       "       [ 11, 181, 359, ...,  83, 262, 352],\n",
       "       [126, 195, 216, ..., 200, 188, 100],\n",
       "       ...,\n",
       "       [324, 295, 276, ..., 246, 267,  56],\n",
       "       [198,  61, 110, ..., 161,  54,  95],\n",
       "       [284, 229, 287, ...,  52,   7, 252]])"
      ]
     },
     "execution_count": 49,
     "metadata": {},
     "output_type": "execute_result"
    }
   ],
   "source": [
    "birthd = np.random.choice(outcome, size=(num_trial, num_people))\n",
    "birthd"
   ]
  },
  {
   "cell_type": "code",
   "execution_count": 50,
   "id": "4d6fcf6f",
   "metadata": {
    "scrolled": false
   },
   "outputs": [
    {
     "data": {
      "text/plain": [
       "0       19\n",
       "1       20\n",
       "2       20\n",
       "3       20\n",
       "4       20\n",
       "        ..\n",
       "9995    20\n",
       "9996    18\n",
       "9997    20\n",
       "9998    19\n",
       "9999    20\n",
       "Length: 10000, dtype: int64"
      ]
     },
     "execution_count": 50,
     "metadata": {},
     "output_type": "execute_result"
    }
   ],
   "source": [
    "pd.DataFrame(birthd).nunique(axis = 1)"
   ]
  },
  {
   "cell_type": "code",
   "execution_count": 51,
   "id": "f5254981",
   "metadata": {},
   "outputs": [
    {
     "data": {
      "text/plain": [
       "0.4056"
      ]
     },
     "execution_count": 51,
     "metadata": {},
     "output_type": "execute_result"
    }
   ],
   "source": [
    "(pd.DataFrame(birthd).nunique(axis = 1) < 20).mean()\n"
   ]
  },
  {
   "cell_type": "markdown",
   "id": "923ea76d",
   "metadata": {},
   "source": [
    "### 40 people"
   ]
  },
  {
   "cell_type": "code",
   "execution_count": 52,
   "id": "5aff82a3",
   "metadata": {},
   "outputs": [],
   "source": [
    "num_trial = 10000\n",
    "num_people = 40\n",
    "outcome = range(0,365)\n"
   ]
  },
  {
   "cell_type": "code",
   "execution_count": 53,
   "id": "bd294601",
   "metadata": {},
   "outputs": [
    {
     "data": {
      "text/plain": [
       "array([[108, 198, 228, ..., 244, 155,  63],\n",
       "       [263,  37, 182, ...,  64, 273,  50],\n",
       "       [127, 114, 317, ..., 256, 238, 228],\n",
       "       ...,\n",
       "       [269, 144, 334, ...,  99, 296,  99],\n",
       "       [339, 143, 289, ..., 347, 137,  33],\n",
       "       [196, 325, 287, ...,  11,  74,  84]])"
      ]
     },
     "execution_count": 53,
     "metadata": {},
     "output_type": "execute_result"
    }
   ],
   "source": [
    "birthd = np.random.choice(outcome, size=(num_trial, num_people))\n",
    "birthd"
   ]
  },
  {
   "cell_type": "code",
   "execution_count": 54,
   "id": "09f5b431",
   "metadata": {},
   "outputs": [
    {
     "data": {
      "text/plain": [
       "0       38\n",
       "1       37\n",
       "2       38\n",
       "3       36\n",
       "4       36\n",
       "        ..\n",
       "9995    37\n",
       "9996    35\n",
       "9997    36\n",
       "9998    39\n",
       "9999    39\n",
       "Length: 10000, dtype: int64"
      ]
     },
     "execution_count": 54,
     "metadata": {},
     "output_type": "execute_result"
    }
   ],
   "source": [
    "pd.DataFrame(birthd).nunique(axis = 1)"
   ]
  },
  {
   "cell_type": "code",
   "execution_count": 55,
   "id": "e4a0f5c2",
   "metadata": {},
   "outputs": [
    {
     "data": {
      "text/plain": [
       "0.8959"
      ]
     },
     "execution_count": 55,
     "metadata": {},
     "output_type": "execute_result"
    }
   ],
   "source": [
    "(pd.DataFrame(birthd).nunique(axis = 1) < 40).mean()\n"
   ]
  }
 ],
 "metadata": {
  "kernelspec": {
   "display_name": "Python 3 (ipykernel)",
   "language": "python",
   "name": "python3"
  },
  "language_info": {
   "codemirror_mode": {
    "name": "ipython",
    "version": 3
   },
   "file_extension": ".py",
   "mimetype": "text/x-python",
   "name": "python",
   "nbconvert_exporter": "python",
   "pygments_lexer": "ipython3",
   "version": "3.10.9"
  }
 },
 "nbformat": 4,
 "nbformat_minor": 5
}
